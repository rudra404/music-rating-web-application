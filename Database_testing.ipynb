{
 "cells": [
  {
   "cell_type": "code",
   "execution_count": 5,
   "id": "434da01c",
   "metadata": {},
   "outputs": [],
   "source": [
    "import sqlite3\n",
    "from sqlite3 import Error"
   ]
  },
  {
   "cell_type": "code",
   "execution_count": 20,
   "id": "218223cb",
   "metadata": {},
   "outputs": [],
   "source": [
    "def search_tracks_by_name(name):\n",
    "\n",
    "    conn = sqlite3.connect('Best_Listens.db')\n",
    "    cursor = conn.cursor()\n",
    "    cursor.execute(\"SELECT * FROM tracks WHERE name LIKE ?\", ('%' + name + '%',))\n",
    "    tracks = cursor.fetchall()\n",
    "    conn.close()\n",
    "    return tracks\n",
    "    "
   ]
  },
  {
   "cell_type": "code",
   "execution_count": 36,
   "id": "21b58541",
   "metadata": {},
   "outputs": [],
   "source": [
    "def search_tracks_by_artist(artist):\n",
    "\n",
    "    conn = sqlite3.connect('Best_Listens.db')\n",
    "    cursor = conn.cursor()\n",
    "    cursor.execute(\"SELECT * FROM tracks WHERE Artist LIKE ?\", ('%' + artist + '%',))\n",
    "    tracks = cursor.fetchall()\n",
    "    conn.close()\n",
    "    return tracks"
   ]
  },
  {
   "cell_type": "code",
   "execution_count": 33,
   "id": "d6997fd2",
   "metadata": {},
   "outputs": [
    {
     "data": {
      "text/plain": [
       "[(1, 'Flowers', 'Miley Cyrus', 'Endless Summer Vacation', \"['pop']\")]"
      ]
     },
     "execution_count": 33,
     "metadata": {},
     "output_type": "execute_result"
    }
   ],
   "source": [
    "search_tracks_by_name('Flowers')"
   ]
  },
  {
   "cell_type": "code",
   "execution_count": 37,
   "id": "f198f86a",
   "metadata": {},
   "outputs": [
    {
     "data": {
      "text/plain": [
       "[(1, 'Flowers', 'Miley Cyrus', 'Endless Summer Vacation', \"['pop']\"),\n",
       " (18, 'River', 'Miley Cyrus', 'Endless Summer Vacation', \"['pop']\")]"
      ]
     },
     "execution_count": 37,
     "metadata": {},
     "output_type": "execute_result"
    }
   ],
   "source": [
    "search_tracks_by_artist('Miley')"
   ]
  },
  {
   "cell_type": "code",
   "execution_count": 43,
   "id": "6ad392a1",
   "metadata": {},
   "outputs": [],
   "source": [
    "def search_tracks(query):\n",
    "\n",
    "    conn = sqlite3.connect('Best_Listens.db')\n",
    "    cursor = conn.cursor()\n",
    "\n",
    "    cursor.execute(\"SELECT * FROM tracks WHERE name LIKE ? OR artist LIKE ? OR album LIKE ?\",('%' + query + '%', '%' + query + '%', '%' + query + '%'))\n",
    "    tracks = cursor.fetchall()\n",
    "\n",
    "    conn.close()\n",
    "    return tracks"
   ]
  },
  {
   "cell_type": "code",
   "execution_count": 46,
   "id": "b6028637",
   "metadata": {},
   "outputs": [
    {
     "data": {
      "text/plain": [
       "[(15,\n",
       "  'Last Night',\n",
       "  'Morgan Wallen',\n",
       "  'One Thing At A Time',\n",
       "  \"['contemporary country']\"),\n",
       " (35,\n",
       "  \"I Ain't Worried\",\n",
       "  'OneRepublic',\n",
       "  'OneRepublic (Japan Paradise Tour Edition)',\n",
       "  \"['piano rock', 'pop']\"),\n",
       " (40,\n",
       "  'Bones',\n",
       "  'Imagine Dragons',\n",
       "  'Mercury - Acts 1 & 2',\n",
       "  \"['modern rock', 'rock']\")]"
      ]
     },
     "execution_count": 46,
     "metadata": {},
     "output_type": "execute_result"
    }
   ],
   "source": [
    "search_tracks('one')"
   ]
  },
  {
   "cell_type": "code",
   "execution_count": 47,
   "id": "b70d7499",
   "metadata": {},
   "outputs": [],
   "source": [
    "# def add_rating(user_id, track_id, rating):\n",
    "\n",
    "#     conn = sqlite3.connect('Best_Listens.db')\n",
    "#     cursor = conn.cursor()\n",
    "#     cursor.execute(\"INSERT INTO ratings (user_id, track_id, rating) VALUES (?, ?, ?)\", (user_id, track_id, rating))\n",
    "#     conn.commit()\n",
    "#     conn.close()"
   ]
  },
  {
   "cell_type": "code",
   "execution_count": 49,
   "id": "961df317",
   "metadata": {},
   "outputs": [],
   "source": [
    "add_rating(6, 1, 5)"
   ]
  },
  {
   "cell_type": "code",
   "execution_count": 52,
   "id": "a1559732",
   "metadata": {},
   "outputs": [],
   "source": [
    "def add_rating(user_id, track_id, rating):\n",
    "\n",
    "    conn = sqlite3.connect('Best_Listens.db')\n",
    "    cursor = conn.cursor()\n",
    "    try:\n",
    "        cursor.execute(\"INSERT INTO ratings (user_id, track_id, rating) VALUES (?, ?, ?)\", (user_id, track_id, rating))\n",
    "        conn.commit()\n",
    "        print(\"Rating added successfully!\")\n",
    "    except sqlite3.IntegrityError:\n",
    "        print(\"Error: User or track not found in database.\")\n",
    "    conn.close()"
   ]
  },
  {
   "cell_type": "code",
   "execution_count": 55,
   "id": "0ed30ab6",
   "metadata": {},
   "outputs": [
    {
     "name": "stdout",
     "output_type": "stream",
     "text": [
      "Rating added successfully!\n"
     ]
    }
   ],
   "source": [
    "add_rating(13, 53, 5)"
   ]
  },
  {
   "cell_type": "code",
   "execution_count": null,
   "id": "c362ad62",
   "metadata": {},
   "outputs": [],
   "source": []
  }
 ],
 "metadata": {
  "kernelspec": {
   "display_name": "Python 3 (ipykernel)",
   "language": "python",
   "name": "python3"
  },
  "language_info": {
   "codemirror_mode": {
    "name": "ipython",
    "version": 3
   },
   "file_extension": ".py",
   "mimetype": "text/x-python",
   "name": "python",
   "nbconvert_exporter": "python",
   "pygments_lexer": "ipython3",
   "version": "3.10.6"
  }
 },
 "nbformat": 4,
 "nbformat_minor": 5
}
